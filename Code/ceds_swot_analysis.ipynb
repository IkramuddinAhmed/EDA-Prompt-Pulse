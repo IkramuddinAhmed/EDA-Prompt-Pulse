{
  "nbformat": 4,
  "nbformat_minor": 0,
  "metadata": {
    "colab": {
      "provenance": []
    },
    "kernelspec": {
      "name": "python3",
      "display_name": "Python 3"
    },
    "language_info": {
      "name": "python"
    }
  },
  "cells": [
    {
      "cell_type": "code",
      "execution_count": null,
      "metadata": {
        "colab": {
          "base_uri": "https://localhost:8080/",
          "height": 255
        },
        "id": "_tJO59_3GUXo",
        "outputId": "e260b63a-a09c-43a5-9477-4dda73700497"
      },
      "outputs": [
        {
          "output_type": "stream",
          "name": "stdout",
          "text": [
            "Requirement already satisfied: exceptiongroup in /usr/local/lib/python3.10/dist-packages (from anyio->httpx<1,>=0.23.0->langsmith<0.2.0,>=0.1.17->langchain) (1.2.2)\n",
            "Requirement already satisfied: pyasn1<0.7.0,>=0.4.6 in /usr/local/lib/python3.10/dist-packages (from pyasn1-modules>=0.2.1->google-auth>=1.0.1->kubernetes>=28.1.0->chromadb) (0.6.1)\n",
            "Requirement already satisfied: typing_extensions>=4.0 in /usr/local/lib/python3.10/dist-packages (from pypdf) (4.12.2)\n",
            "Requirement already satisfied: certifi>=2017.4.17 in /usr/local/lib/python3.10/dist-packages (from requests->huggingface-hub>=0.20.0->sentence-transformers) (2024.8.30)\n",
            "Requirement already satisfied: pyasn1<0.7.0,>=0.4.6 in /usr/local/lib/python3.10/dist-packages (from pyasn1-modules>=0.2.1->google-auth>=1.0.1->kubernetes>=28.1.0->chromadb!=0.5.4,!=0.5.5,<0.6.0,>=0.4.0->langchain-chroma>=0.1.2) (0.6.1)\n",
            "Requirement already satisfied: exceptiongroup in /usr/local/lib/python3.10/dist-packages (from anyio->httpx<1,>=0.23.0->langsmith<0.2.0,>=0.1.125->langchain-community) (1.2.2)\n",
            "Successfully installed openai-1.54.4 sentence-transformers-3.3.0\n"
          ]
        },
        {
          "output_type": "display_data",
          "data": {
            "application/vnd.colab-display-data+json": {
              "pip_warning": {
                "packages": [
                  "sentence_transformers"
                ]
              },
              "id": "6cada34904e841768371ba286786908a"
            }
          },
          "metadata": {}
        }
      ],
      "source": [
        "# Installations\n",
        "!pip install langchain | tail -n 1\n",
        "!pip install langchain openai transformers chromadb | tail -n 1\n",
        "!pip install pypdf | tail -n 1\n",
        "!pip install sentence-transformers | tail -n 1\n",
        "!pip install \"langchain-chroma>=0.1.2\" | tail -n 1\n",
        "!pip install -U langchain-community | tail -n 1\n",
        "!pip install openai transformers chromadb pypdf sentence-transformers \"langchain-chroma>=0.1.2\" -U langchain-community | tail -n 1"
      ]
    },
    {
      "cell_type": "code",
      "source": [
        "# Imports\n",
        "import os\n",
        "import time\n",
        "from google.colab import userdata\n",
        "import langchain as lc\n",
        "from langchain.vectorstores import Chroma\n",
        "from langchain.embeddings import HuggingFaceEmbeddings\n",
        "from langchain.chains import RetrievalQA\n",
        "from langchain_community.document_loaders import PyPDFLoader\n",
        "from langchain.prompts import PromptTemplate\n",
        "from langchain.agents import initialize_agent, Tool\n",
        "from langchain_core.exceptions import OutputParserException\n",
        "from langchain.chat_models import ChatOpenAI"
      ],
      "metadata": {
        "id": "Scw4Ph4vGWIM"
      },
      "execution_count": null,
      "outputs": []
    },
    {
      "cell_type": "code",
      "source": [
        "# Set up OpenAI API Key\n",
        "os.environ[\"OPENAI_API_KEY\"] = userdata.get('openai_key')"
      ],
      "metadata": {
        "id": "GRhfutaBGYPG"
      },
      "execution_count": null,
      "outputs": []
    },
    {
      "cell_type": "code",
      "source": [
        "# Load and Process Documents\n",
        "document_paths = [\n",
        "    \"/content/indiana15_ceds_2023.pdf\",\n",
        "    \"/content/eda_ceds_guidelines_2023.pdf\"\n",
        "]\n",
        "\n",
        "documents = []\n",
        "for path in document_paths:\n",
        "    loader = PyPDFLoader(path)\n",
        "    documents.extend(loader.load())"
      ],
      "metadata": {
        "id": "Q7PVy71UG1pX"
      },
      "execution_count": null,
      "outputs": []
    },
    {
      "cell_type": "code",
      "source": [
        "# Improved Text Chunking and Vectorization\n",
        "# Increased chunk size for better context\n",
        "text_splitter = lc.text_splitter.RecursiveCharacterTextSplitter(chunk_size=1500, chunk_overlap=200)\n",
        "chunks = text_splitter.split_documents(documents)\n",
        "\n",
        "embedding_model = HuggingFaceEmbeddings(model_name=\"sentence-transformers/all-distilroberta-v1\")\n",
        "vector_store = Chroma.from_documents(chunks, embedding_model)\n"
      ],
      "metadata": {
        "colab": {
          "base_uri": "https://localhost:8080/"
        },
        "id": "bjgYB3NsIC9e",
        "outputId": "e012485a-8bc6-46e0-8227-e65eab6f56df"
      },
      "execution_count": null,
      "outputs": [
        {
          "output_type": "stream",
          "name": "stderr",
          "text": [
            "<ipython-input-4-cd3df89ba4d6>:6: LangChainDeprecationWarning: The class `HuggingFaceEmbeddings` was deprecated in LangChain 0.2.2 and will be removed in 1.0. An updated version of the class exists in the :class:`~langchain-huggingface package and should be used instead. To use it run `pip install -U :class:`~langchain-huggingface` and import as `from :class:`~langchain_huggingface import HuggingFaceEmbeddings``.\n",
            "  embedding_model = HuggingFaceEmbeddings(model_name=\"sentence-transformers/all-distilroberta-v1\")\n",
            "/usr/local/lib/python3.10/dist-packages/huggingface_hub/utils/_auth.py:94: UserWarning: \n",
            "The secret `HF_TOKEN` does not exist in your Colab secrets.\n",
            "To authenticate with the Hugging Face Hub, create a token in your settings tab (https://huggingface.co/settings/tokens), set it as secret in your Google Colab and restart your session.\n",
            "You will be able to reuse this secret in all of your notebooks.\n",
            "Please note that authentication is recommended but still optional to access public models or datasets.\n",
            "  warnings.warn(\n"
          ]
        }
      ]
    },
    {
      "cell_type": "code",
      "source": [
        "# Initialize OpenAI LLM\n",
        "llm = ChatOpenAI(model=\"gpt-3.5-turbo\")"
      ],
      "metadata": {
        "colab": {
          "base_uri": "https://localhost:8080/"
        },
        "id": "p_pCgUS7Nng5",
        "outputId": "7b05201b-fa0b-4685-f493-43d640f24a4d"
      },
      "execution_count": null,
      "outputs": [
        {
          "output_type": "stream",
          "name": "stderr",
          "text": [
            "<ipython-input-5-9376f39a8862>:2: LangChainDeprecationWarning: The class `ChatOpenAI` was deprecated in LangChain 0.0.10 and will be removed in 1.0. An updated version of the class exists in the :class:`~langchain-openai package and should be used instead. To use it run `pip install -U :class:`~langchain-openai` and import as `from :class:`~langchain_openai import ChatOpenAI``.\n",
            "  llm = ChatOpenAI(model=\"gpt-3.5-turbo\")\n"
          ]
        }
      ]
    },
    {
      "cell_type": "code",
      "source": [
        "# Set Up Retrieval-QA Chain for RAG\n",
        "retriever = vector_store.as_retriever()\n",
        "\n",
        "def dynamic_document_retrieval(query, context_doc=None):\n",
        "    global retriever\n",
        "\n",
        "    if context_doc:\n",
        "        filtered_chunks = [chunk for chunk in chunks if context_doc.lower() in chunk.page_content.lower()]\n",
        "        if not filtered_chunks:\n",
        "            return {\"output\": \"Context document not found.\"}\n",
        "\n",
        "        filtered_vector_store = Chroma.from_documents(filtered_chunks, embedding_model)\n",
        "        retriever = filtered_vector_store.as_retriever()\n",
        "    else:\n",
        "        retriever = vector_store.as_retriever()\n",
        "\n",
        "    rag_chain = RetrievalQA.from_chain_type(llm=llm, retriever=retriever, return_source_documents=True)\n",
        "    return rag_chain.invoke({\"query\": query})\n",
        "\n",
        "retrieval_tool = Tool(\n",
        "    name=\"document_retriever\",\n",
        "    func=dynamic_document_retrieval,\n",
        "    description=\"Retrieves information from selected documents on demand\"\n",
        ")"
      ],
      "metadata": {
        "id": "U-pbwGAJIFfD"
      },
      "execution_count": null,
      "outputs": []
    },
    {
      "cell_type": "code",
      "source": [
        "# Improved Agent Prompt for SWOT Analysis with Document-Specific Clues\n",
        "agent_prompt = PromptTemplate(\n",
        "    input_variables=[\"input\", \"agent_scratchpad\"],\n",
        "    template=\"\"\"\n",
        "    You are an economic development analysis assistant specializing in SWOT (Strengths, Weaknesses, Opportunities, Threats) analysis.\n",
        "    You have access to multiple documents in the CEDS database. Extract relevant information and format your output accordingly.\n",
        "\n",
        "    Look for keywords such as \"advantage,\" \"strength,\" \"challenge,\" \"opportunity,\" \"risk,\" or \"threat\" to identify each section of the SWOT analysis.\n",
        "\n",
        "    Follow this format:\n",
        "    - **Strengths**: Provide specific strengths of the region with examples.\n",
        "    - **Weaknesses**: Provide specific weaknesses of the region with examples.\n",
        "    - **Opportunities**: Provide specific opportunities for the region with examples.\n",
        "    - **Threats**: Provide specific threats to the region with examples.\n",
        "\n",
        "    Provide each section as a separate list item with clear, concise points.\n",
        "\n",
        "    If a section is missing, respond with \"No relevant information found\" for that part.\n",
        "\n",
        "    Thought: {agent_scratchpad}\n",
        "    Query: {input}\n",
        "    \"\"\"\n",
        ")"
      ],
      "metadata": {
        "id": "1M7CUHhlIIdM"
      },
      "execution_count": null,
      "outputs": []
    },
    {
      "cell_type": "code",
      "source": [
        "# Initialize the Agent\n",
        "tools = [retrieval_tool]\n",
        "\n",
        "agent = initialize_agent(\n",
        "    tools=tools,\n",
        "    llm=llm,\n",
        "    agent=\"zero-shot-react-description\",\n",
        "    verbose=True,\n",
        "    prompt=agent_prompt,\n",
        "    handle_parsing_errors=True\n",
        ")\n",
        "\n",
        "# Define Agentic Query Function with Retry Mechanism\n",
        "# Added fallback query to improve analysis\n",
        "\n",
        "def agentic_query(query, context_doc=None, retries=3):\n",
        "    input_data = {\n",
        "        \"input\": query,\n",
        "        \"agent_scratchpad\": \"\",\n",
        "    }\n",
        "    for attempt in range(retries):\n",
        "        try:\n",
        "            time.sleep(1)  # Delay to respect API rate limit\n",
        "            response = agent.invoke(input_data)\n",
        "            if isinstance(response, dict):\n",
        "                output = response.get('output', 'No relevant information found.')\n",
        "                if \"No relevant information found\" in output:\n",
        "                    print(f\"Attempt {attempt + 1} - No relevant information found. Retrying with adjusted query...\")\n",
        "                    input_data[\"input\"] = \"Reattempting to extract SWOT information with a focus on specific keywords like advantage, challenge, and risk.\"\n",
        "                else:\n",
        "                    return output\n",
        "            else:\n",
        "                return response\n",
        "        except OutputParserException as e:\n",
        "            print(f\"Attempt {attempt + 1} - Error processing query: {str(e)}\")\n",
        "        except Exception as e:\n",
        "            print(f\"Attempt {attempt + 1} - Unexpected error: {str(e)}\")\n",
        "    return \"Exceeded maximum retry attempts without successful completion.\""
      ],
      "metadata": {
        "colab": {
          "base_uri": "https://localhost:8080/"
        },
        "id": "OOr0sapmIK9q",
        "outputId": "bc4fdfea-2b2e-4c4c-bee2-2809610735b7"
      },
      "execution_count": null,
      "outputs": [
        {
          "output_type": "stream",
          "name": "stderr",
          "text": [
            "<ipython-input-8-24372b2de7ef>:4: LangChainDeprecationWarning: The function `initialize_agent` was deprecated in LangChain 0.1.0 and will be removed in 1.0. Use :meth:`~Use new agent constructor methods like create_react_agent, create_json_agent, create_structured_chat_agent, etc.` instead.\n",
            "  agent = initialize_agent(\n"
          ]
        }
      ]
    },
    {
      "cell_type": "code",
      "source": [
        "result = agentic_query(\"Provide a detailed SWOT analysis based on the content in the Indiana 15 CEDS document.\")"
      ],
      "metadata": {
        "colab": {
          "base_uri": "https://localhost:8080/"
        },
        "id": "xvMXcomUIOtl",
        "outputId": "5b156b5c-3723-4f08-a85a-46a62652154f"
      },
      "execution_count": null,
      "outputs": [
        {
          "output_type": "stream",
          "name": "stdout",
          "text": [
            "\n",
            "\n",
            "\u001b[1m> Entering new AgentExecutor chain...\u001b[0m\n",
            "\u001b[32;1m\u001b[1;3mI need to retrieve the Indiana 15 CEDS document to analyze its content for a SWOT analysis.\n",
            "Action: document_retriever\n",
            "Action Input: \"Indiana 15 CEDS\"\u001b[0m\n",
            "Observation: \u001b[36;1m\u001b[1;3m{'query': 'Indiana 15 CEDS', 'result': \"The Indiana 15 CEDS stands for the Comprehensive Economic Development Strategy for the Indiana 15 region. It is a strategic plan that outlines the region's economic development goals and priorities for the next five years. The CEDS is informed by the region's vision statement, which includes aspirations for economic growth, tourism, quality of life, and opportunities for residents. The plan focuses on areas like population growth, housing, entrepreneurship, business development, education, income levels, and community revenues. The Indiana 15 RPC (Regional Planning Commission) plays a key role in coordinating and implementing this strategy.\", 'source_documents': [Document(metadata={'page': 3, 'source': '/content/indiana15_ceds_2023.pdf'}, page_content='4 |  INDIANA 15 RPC - 2023 5-YEAR CEDS \\nChapter 1 \\nIntroduction'), Document(metadata={'page': 49, 'source': '/content/indiana15_ceds_2023.pdf'}, page_content='50 |  INDIANA 15 RPC - 2023 5-YEAR CEDS \\nChapter 6\\nImplement a tion'), Document(metadata={'page': 93, 'source': '/content/indiana15_ceds_2023.pdf'}, page_content='INDIANA 15 RPC  |  2023 5-YEAR CEDS'), Document(metadata={'page': 36, 'source': '/content/indiana15_ceds_2023.pdf'}, page_content='INDIANA 15 RPC - 2023 5-YEAR CEDS  |  37 \\nThe Indiana 15 region vision statement is an \\naspirational statement for driving economic \\ngrowth. This vision informed the creation of the \\nCEDS by identifying what the region would like to \\nsee in the future – a resilient economy, booming \\ntourism, a strong commitment to quality of life, \\nand diverse opportunities for all residents. It also \\nprovides an outlet for how the region can assess \\nwhether or not they have achieved their vision by \\nidentifying speciﬁ c areas where they would like to \\nsee improvement - increased population, housing, \\nentrepreneurship, businesses, industries, innovative \\neducation, household incomes, and community \\nrevenues. Over the next ten years, the region \\nshould use this vision statement, and the rest of \\nthe framework, as a lens for evaluating future \\nregionally signiﬁ cant projects or programs.  \\nREGIONAL \\nVISION \\nThe Indiana 15 RPC is a collaborative and \\nengaging regional leader committed to driving \\neconomic growth with diverse employment \\nand increasing educational attainment. By \\nleveraging our abundant natural resources \\nand agricultural assets, our residents and \\nemployees are thriving. Our regional \\ncollaboration has led to a resilient economy, \\nbooming tourism, a strong commitment to \\nquality of life, and diverse opportunity for all \\nresidents.\\nCollectively these achievements have increased \\npopulation, housing, entrepreneurship, \\nbusinesses, industries, innovative education,')]}\u001b[0m\n",
            "Thought:\u001b[32;1m\u001b[1;3mNow that I have access to the Indiana 15 CEDS document, I can start analyzing its content to create a SWOT analysis.\n",
            "Action: document_retriever\n",
            "Action Input: \"SWOT analysis Indiana 15 CEDS\"\u001b[0m\n",
            "Observation: \u001b[36;1m\u001b[1;3m{'query': 'SWOT analysis Indiana 15 CEDS', 'result': \"The SWOT analysis for the Indiana 15 CEDS (Comprehensive Economic Development Strategy) is a critical component of the development process. It involves identifying the region's strengths, weaknesses, opportunities, and threats. This analysis is aimed at encouraging critical thinking, gathering stakeholder and community feedback, and collecting qualitative data. It's important to ensure that the SWOT analysis aligns with other sections of the CEDS and that the identified items are actionable. The SWOT analysis should connect to the strategic action plan and address any equity challenges that may arise. For more detailed information on the SWOT analysis for the Indiana 15 CEDS, you may refer to Chapter Three: Regional Opportunities and Needs Assessment in the CEDS document.\", 'source_documents': [Document(metadata={'page': 3, 'source': '/content/indiana15_ceds_2023.pdf'}, page_content='4 |  INDIANA 15 RPC - 2023 5-YEAR CEDS \\nChapter 1 \\nIntroduction'), Document(metadata={'page': 5, 'source': '/content/indiana15_ceds_2023.pdf'}, page_content='reached over 120 people during the community meetings and nearly \\n200 survey responses. The following statements are intended to \\nprovide a snapshot of what we heard from the Indiana 15 Hoosiers. \\nA more in-depth assessment of the region’s strengths, weaknesses, \\nopportunities, and threats (SWOT) can be found in Chapter Three: \\nRegional Opportunities and Needs Assessment.'), Document(metadata={'page': 38, 'source': '/content/eda_ceds_guidelines_2023.pdf'}, page_content='summary of the CEDS in Spanish (https:/assets.website-\\nfiles.com/622e8847cde037798a8d0e62/62436ff0592ced0c064d5b16_MCEDD-CEDS_2022-\\n2027_Resumen-Spanish_web.pdf) w as also created and is hosted on their CEDS website.     \\n \\nSWOT Analysis  \\nThe SWOT analysis is an important tool in the CEDS development process that encourages \\ncritical thinking, stakeholder/community feedback and input, and qualitative data collection. The \\nprocess for developing the SWOT and the stakeholders involved are critical and should be noted \\nin the CEDS as an introduction to the SWOT analysis. Allowing a broad and diverse group of \\nstakeholders and community members to contribute their input to the SWOT analysis ensures \\nthat this component of the CEDS is representative of many different views. However, the SWOT \\nanalysis may result in particular challenges related to equity.  Below are some of these critical \\npitfalls of the SWOT analysis related to equity and tips to avoid them:  \\n \\nSWOT Pitfalls    Tips for Ensuring an Equitable SWOT  \\nItems in SWOT analysis do not align \\nwith other sections of the CEDS, \\nparticularly those items related to \\nequity challenges that might rely on \\nqualitative rather than quantitative \\ndata.  \\n  \\n• Connect SWOT to findings from data in the \\nSummary Background  \\n• Ensure the items identified in the SWOT connect \\nto the Strategic Action/Direction of the plan by \\nhighlighting opportunities that are actionable  \\nThe resulting SWOT does not'), Document(metadata={'page': 2, 'source': '/content/eda_ceds_guidelines_2023.pdf'}, page_content='US Economic Development Administration - 032823 \\n \\n3 \\n \\nhigh-level steps required to prepare a CEDS can be found in the Preparation section of this \\ndocument, EDA suggests contacting the appropriate EDA regional office (specific points of \\ncontact can be found on EDA’s website (www.eda.gov)) to learn more about the overall CEDS \\nprocess and additional resources and guidance available. \\n \\nFrom the regulations governing the CEDS (see 13 C.F.R. § 303.7), the following sections must \\nbe included in the CEDS document: \\n \\n1. Summary Background: A summary background of the economic conditions of the region; \\n \\n2. SWOT Analysis: An in-depth analysis of regional strengths, weaknesses, opportunities \\nand threats (commonly known as a “SWOT” analysis);  \\n \\n3. Strategic Direction/Action Plan: The strategic direction and action plan should build on \\nfindings from the SWOT analysis and incorporate/integrate elements from other regional \\nplans (e.g., land use and transportation, workforce development, etc.) where appropriate \\nas determined by the EDD or community/region engaged in development of the CEDS.  \\nThe action plan should also identify the stakeholder(s) responsible for implementation, \\ntimetables, and opportunities for the integrated use of other local, state, and federal funds; \\n \\n4. Evaluation Framework: Performance measures used to evaluate the organization’s \\nimplementation of the CEDS and impact on the regional economy.')]}\u001b[0m\n",
            "Thought:\u001b[32;1m\u001b[1;3mI have gathered information on the SWOT analysis for the Indiana 15 CEDS document and can now proceed with creating a detailed SWOT analysis based on the content in the document.\n",
            "Final Answer: I will provide a detailed SWOT analysis based on the information retrieved from the Indiana 15 CEDS document.\u001b[0m\n",
            "\n",
            "\u001b[1m> Finished chain.\u001b[0m\n"
          ]
        }
      ]
    }
  ]
}
